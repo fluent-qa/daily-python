{
 "cells": [
  {
   "metadata": {},
   "cell_type": "markdown",
   "source": [
    "## OS 文件操作\n",
    "\n",
    "- 获取所有文件\n",
    "- 判断文件是否是文件夹还是文件"
   ],
   "id": "3b5ef382034253e8"
  },
  {
   "metadata": {
    "ExecuteTime": {
     "end_time": "2025-01-03T08:50:06.209729Z",
     "start_time": "2025-01-03T08:50:06.200307Z"
    }
   },
   "cell_type": "code",
   "source": [
    "import os\n",
    "\n",
    "files = os.listdir(\".\")\n",
    "for file in files:\n",
    "    if os.path.isdir(file):\n",
    "        print(f\"directory: {file}\")\n",
    "    else:\n",
    "        print(f\"file: {file}\")\n",
    "\n",
    "for dirpath, dirnames, filenames  in os.walk(\".\"):\n",
    "    # same level\n",
    "    print(f\"{dirpath} {dirnames} {filenames}\")"
   ],
   "id": "fcdf5d3c82b6c260",
   "outputs": [
    {
     "name": "stdout",
     "output_type": "stream",
     "text": [
      "file: my_module.py\n",
      "file: variable.ipynb\n",
      "file: 7-functions.ipynb\n",
      "file: os_file_system.ipynb\n",
      "file: 07-dict-all.ipynb\n",
      "file: oop.ipynb\n",
      "directory: features\n",
      "file: nice-painting.ipynb\n",
      "file: operator.ipynb\n",
      "file: dict.ipynb\n",
      "file: logging_printing.ipynb\n",
      "file: 04-list.ipynb\n",
      "file: 4-oeprations.ipynb\n",
      "file: 3-string-more.ipynb\n",
      "file: 13_modules.py\n",
      "file: 12_exceptions.py\n",
      ". ['features'] ['my_module.py', 'variable.ipynb', '7-functions.ipynb', 'os_file_system.ipynb', '07-dict-all.ipynb', 'oop.ipynb', 'nice-painting.ipynb', 'operator.ipynb', 'dict.ipynb', 'logging_printing.ipynb', '04-list.ipynb', '4-oeprations.ipynb', '3-string-more.ipynb', '13_modules.py', '12_exceptions.py']\n",
      "./features [] ['email-sender.ipynb', 'emial.tpl']\n"
     ]
    }
   ],
   "execution_count": 6
  },
  {
   "metadata": {},
   "cell_type": "code",
   "outputs": [],
   "execution_count": null,
   "source": "",
   "id": "482ded764079f829"
  },
  {
   "metadata": {},
   "cell_type": "markdown",
   "source": "",
   "id": "58a8d8cc61d8e509"
  }
 ],
 "metadata": {
  "kernelspec": {
   "display_name": "Python 3",
   "language": "python",
   "name": "python3"
  },
  "language_info": {
   "codemirror_mode": {
    "name": "ipython",
    "version": 2
   },
   "file_extension": ".py",
   "mimetype": "text/x-python",
   "name": "python",
   "nbconvert_exporter": "python",
   "pygments_lexer": "ipython2",
   "version": "2.7.6"
  }
 },
 "nbformat": 4,
 "nbformat_minor": 5
}
