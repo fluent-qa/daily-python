{
 "cells": [
  {
   "metadata": {},
   "cell_type": "markdown",
   "source": [
    "## 爬虫\n",
    "\n",
    "- API获取数据\n",
    "- 网页获取数据\n",
    "  * 浏览器静态数据\n",
    "  * 浏览器动态数据\n",
    "  * 无痕浏览器\n",
    "- 工具：\n",
    "   * httpx/request\n",
    "   * UI: DrissionPage/Selenium/Playwright\n",
    "   * RPA: 影刀/八爪鱼/RobotFramework/RPA工具\n",
    "\n",
    "### 1. httpx/requests\n",
    "\n",
    "- install: \n",
    "  * ```pdm add \"httpx[all]\" ```\n",
    "  * ```pdm add requests```\n",
    "\n",
    "### 1.1 httpx/requests demo\n",
    "\n",
    "Getting Data from API:\n",
    "\n",
    "\n"
   ],
   "id": "e9e11293d80da72a"
  },
  {
   "metadata": {
    "ExecuteTime": {
     "end_time": "2024-10-22T07:44:06.358309Z",
     "start_time": "2024-10-22T07:44:03.596826Z"
    }
   },
   "cell_type": "code",
   "source": [
    "import asyncio\n",
    "\n",
    "import httpx\n",
    "import requests\n",
    "\n",
    "async def post_data():\n",
    "    data = {'name': 'crawler','email':'crawler@gmail.com'}\n",
    "    async with httpx.AsyncClient() as client:\n",
    "        response = await client.post('https://httpbin.org/post', data=data)\n",
    "        print(response.json())\n",
    "      \n",
    "def httpx_get():\n",
    "  url = \"https://httpbin.org/anything/anything\"\n",
    "  response = httpx.get(url)\n",
    "  print(response.json())\n",
    "  \n",
    "def get_data():\n",
    "  url = 'https://httpbin.org/get'\n",
    "\n",
    "def requests_get_data():\n",
    "  url = \"https://httpbin.org/anything/anything\"\n",
    "  \n",
    "  payload = {}\n",
    "  headers = {}\n",
    "  response = requests.request(\"GET\", url, headers=headers, data=payload)\n",
    "  print(response.text)\n",
    "\n",
    "\n",
    "# asyncio.run(post_data())\n",
    "httpx_get()\n",
    "requests_get_data()"
   ],
   "id": "bf4370300f7672c6",
   "outputs": [
    {
     "name": "stdout",
     "output_type": "stream",
     "text": [
      "{'args': {}, 'data': '', 'files': {}, 'form': {}, 'headers': {'Accept': '*/*', 'Accept-Encoding': 'gzip, deflate', 'Host': 'httpbin.org', 'User-Agent': 'python-httpx/0.27.2', 'X-Amzn-Trace-Id': 'Root=1-671757c5-33989f7665227eec1a747665'}, 'json': None, 'method': 'GET', 'origin': '216.24.187.19', 'url': 'https://httpbin.org/anything/anything'}\n",
      "{\n",
      "  \"args\": {}, \n",
      "  \"data\": \"\", \n",
      "  \"files\": {}, \n",
      "  \"form\": {}, \n",
      "  \"headers\": {\n",
      "    \"Accept\": \"*/*\", \n",
      "    \"Accept-Encoding\": \"gzip, deflate\", \n",
      "    \"Host\": \"httpbin.org\", \n",
      "    \"User-Agent\": \"python-requests/2.32.3\", \n",
      "    \"X-Amzn-Trace-Id\": \"Root=1-671757c6-23f4717802c17eba1f9fd6aa\"\n",
      "  }, \n",
      "  \"json\": null, \n",
      "  \"method\": \"GET\", \n",
      "  \"origin\": \"216.24.187.19\", \n",
      "  \"url\": \"https://httpbin.org/anything/anything\"\n",
      "}\n",
      "\n"
     ]
    }
   ],
   "execution_count": 3
  },
  {
   "metadata": {},
   "cell_type": "markdown",
   "source": [
    "## 2. UI \n",
    "\n",
    "installation:\n",
    "\n",
    "- pdm add DrissionPage"
   ],
   "id": "f90e571e42b25698"
  },
  {
   "metadata": {
    "ExecuteTime": {
     "end_time": "2024-10-22T07:57:01.038159Z",
     "start_time": "2024-10-22T07:56:49.648829Z"
    }
   },
   "cell_type": "code",
   "source": [
    "from DrissionPage import Chromium\n",
    "# from DrissionPage import WebPage\n",
    "# from DrissionPage import SessionPage\n",
    "# from DrissionPage import SessionOptions\n",
    "# from DrissionPage.common import Settings\n",
    "# from DrissionPage.common import Keys\n",
    "# from DrissionPage.common import By\n",
    "# from DrissionPage.common import wait_until\n",
    "# from DrissionPage.common import make_session_ele\n",
    "# from DrissionPage.common import configs_to_here\n",
    "# from DrissionPage.errors import ElementNotFoundError\n",
    "# from DrissionPage.items import SessionElement\n",
    "# from DrissionPage.items import ChromiumElement\n",
    "# from DrissionPage.items import ShadowRoot\n",
    "# from DrissionPage.items import NoneElement\n",
    "# from DrissionPage.items import ChromiumTab\n",
    "# from DrissionPage.items import MixTab\n",
    "# from DrissionPage.items import ChromiumFrame\n",
    "from DrissionPage import ChromiumOptions\n",
    "\n",
    "\n",
    "# tab = Chromium().latest_tab\n",
    "# tab.get('https://DrissionPage.cn')\n",
    "# tab.close()\n",
    "\n",
    "def set_chromium_options():\n",
    "  path = r'D:\\Chrome\\Chrome.exe'  # 请改为你电脑内Chrome可执行文件路径\n",
    "  ChromiumOptions().set_browser_path(path).save()\n",
    "\n",
    "def gitee_login():\n",
    "  # 启动或接管浏览器，并创建标签页对象\n",
    "  tab = Chromium().latest_tab\n",
    "  # 跳转到登录页面\n",
    "  tab.get('https://gitee.com/login')\n",
    "  \n",
    "  # 定位到账号文本框，获取文本框元素\n",
    "  ele = tab.ele('#user_login')\n",
    "  # 输入对文本框输入账号\n",
    "  ele.input('您的账号')\n",
    "  # 定位到密码文本框并输入密码\n",
    "  tab.ele('#user_password').input('您的密码')\n",
    "  # 点击登录按钮\n",
    "  tab.ele('@value=登 录').click()\n",
    "\n",
    "gitee_login()\n",
    "\n"
   ],
   "id": "13deda9d10c699b3",
   "outputs": [],
   "execution_count": 9
  }
 ],
 "metadata": {
  "kernelspec": {
   "display_name": "Python 3",
   "language": "python",
   "name": "python3"
  },
  "language_info": {
   "codemirror_mode": {
    "name": "ipython",
    "version": 2
   },
   "file_extension": ".py",
   "mimetype": "text/x-python",
   "name": "python",
   "nbconvert_exporter": "python",
   "pygments_lexer": "ipython2",
   "version": "2.7.6"
  }
 },
 "nbformat": 4,
 "nbformat_minor": 5
}
