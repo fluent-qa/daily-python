{
 "cells": [
  {
   "metadata": {},
   "cell_type": "markdown",
   "source": [
    "## Excel One Page in Python\n",
    " \n",
    "Excel Handling:\n",
    "- Read/Write\n",
    "- To Models\n",
    "- Excel Templates\n",
    "\n",
    "- Tools:\n",
    "  * pandas\n",
    "  * xlwings"
   ]
  },
  {
   "metadata": {
    "ExecuteTime": {
     "end_time": "2024-10-22T09:28:47.724911Z",
     "start_time": "2024-10-22T09:28:46.525870Z"
    }
   },
   "cell_type": "code",
   "source": [
    "import pandas as pd\n",
    "\n",
    "df_csv  = pd.read_csv('user.csv')\n",
    "print(df_csv)\n",
    "\n",
    "df_execl = pd.read_excel('user.xlsx')\n",
    "print(df_execl)\n",
    "print(df_csv.head())\n",
    "print(df_execl.head())\n",
    "print(df_execl.tail(0))\n",
    "print(df_execl.tail(1))\n",
    "print(df_execl.info())\n",
    "## without index\n",
    "print(df_execl.shape)\n",
    "above_40=df_execl[df_execl['Age']>30]\n",
    "print(above_40)\n",
    "\n",
    "## getting data from a range\n",
    "range_subset_df = df_execl.iloc[1:2,0:1]\n",
    "print(range_subset_df)"
   ],
   "outputs": [
    {
     "name": "stdout",
     "output_type": "stream",
     "text": [
      "   Unnamed: 0                      Name  Age     Sex\n",
      "0           0   Braund, Mr. Owen Harris   22    male\n",
      "1           1  Allen, Mr. William Henry   35    male\n",
      "2           2  Bonnell, Miss. Elizabeth   58  female\n",
      "   Unnamed: 0                      Name  Age     Sex\n",
      "0           0   Braund, Mr. Owen Harris   22    male\n",
      "1           1  Allen, Mr. William Henry   35    male\n",
      "2           2  Bonnell, Miss. Elizabeth   58  female\n",
      "   Unnamed: 0                      Name  Age     Sex\n",
      "0           0   Braund, Mr. Owen Harris   22    male\n",
      "1           1  Allen, Mr. William Henry   35    male\n",
      "2           2  Bonnell, Miss. Elizabeth   58  female\n",
      "   Unnamed: 0                      Name  Age     Sex\n",
      "0           0   Braund, Mr. Owen Harris   22    male\n",
      "1           1  Allen, Mr. William Henry   35    male\n",
      "2           2  Bonnell, Miss. Elizabeth   58  female\n",
      "Empty DataFrame\n",
      "Columns: [Unnamed: 0, Name, Age, Sex]\n",
      "Index: []\n",
      "   Unnamed: 0                      Name  Age     Sex\n",
      "2           2  Bonnell, Miss. Elizabeth   58  female\n",
      "<class 'pandas.core.frame.DataFrame'>\n",
      "RangeIndex: 3 entries, 0 to 2\n",
      "Data columns (total 4 columns):\n",
      " #   Column      Non-Null Count  Dtype \n",
      "---  ------      --------------  ----- \n",
      " 0   Unnamed: 0  3 non-null      int64 \n",
      " 1   Name        3 non-null      object\n",
      " 2   Age         3 non-null      int64 \n",
      " 3   Sex         3 non-null      object\n",
      "dtypes: int64(2), object(2)\n",
      "memory usage: 228.0+ bytes\n",
      "None\n",
      "(3, 4)\n",
      "   Unnamed: 0                      Name  Age     Sex\n",
      "1           1  Allen, Mr. William Henry   35    male\n",
      "2           2  Bonnell, Miss. Elizabeth   58  female\n",
      "   Unnamed: 0\n",
      "1           1\n"
     ]
    }
   ],
   "execution_count": 1
  }
 ],
 "metadata": {
  "kernelspec": {
   "display_name": ".venv",
   "language": "python",
   "name": "python3"
  },
  "language_info": {
   "name": "python",
   "version": "3.12.3"
  }
 },
 "nbformat": 4,
 "nbformat_minor": 2
}
