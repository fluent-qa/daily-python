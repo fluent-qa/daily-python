{
 "cells": [
  {
   "metadata": {},
   "cell_type": "markdown",
   "source": [
    "# Pandas\n",
    "\n",
    "当然！学习 Pandas 的 30 分钟教程有很多，以下列举一些不错的选择：\n",
    "\n",
    "**1.  官方教程：**\n",
    "\n",
    "* **Pandas 官方 10 分钟入门教程：** [1](https://pandas.pydata.org/docs/user_guide/10min.html)  这个教程非常简洁，涵盖了 Pandas 的基本数据结构、数据读取、基本操作、索引和选择、分组和聚合等核心功能。\n",
    "* **Pandas 官方教程：** [2](https://pandas.pydata.org/docs/getting_started/tutorials.html)  Pandas 官方网站提供了一系列教程，其中包含了更深入的 Pandas 功能介绍，例如数据清洗、数据可视化、时间序列操作等等。\n",
    "\n",
    "**2.  第三方教程：**\n",
    "\n",
    "* **DataCamp Pandas 教程：** [3](https://www.datacamp.com/tutorial/pandas)  DataCamp 提供了 Pandas 的入门教程，涵盖了数据结构、数据操作、数据分析、数据可视化等方面的基础知识。\n",
    "* **W3Schools Pandas 教程：** [4](https://www.w3schools.com/python/pandas/default.asp)  W3Schools 提供了 Pandas 的基础教程，包含了数据结构、数据操作、数据分析等方面的介绍。\n",
    "\n",
    "**3.  YouTube 视频教程：**\n",
    "\n",
    "* **Sentdex Pandas 教程：**  YouTube 上有很多 Pandas 教程，其中 Sentdex 的教程内容清晰，讲解细致，很适合入门学习。 [5](https://www.youtube.com/watch?v=ZyhVh-q0YwQ)\n",
    "\n",
    "选择教程时，建议根据自己的学习习惯和时间安排来决定，并根据自己的需求选择合适的教程。建议先学习官方 10 分钟入门教程，再根据自己的需求选择其他教程进行深入学习。\n",
    "\n",
    "## What Pandas todo\n",
    "\n",
    "- What kind of data does pandas handle?\n",
    "- How do I read and write tabular data?\n",
    "- How do I select a subset of a table?\n",
    "- How to create plots in pandas?\n",
    "- How to create new columns derived from existing columns?\n",
    "- How to calculate summary statistics?\n",
    "- How to reshape the layout of tables?\n",
    "- How to combine data from multiple tables?\n",
    "- How to handle time series data?\n",
    "- How to manipulate textual data?\n"
   ],
   "id": "a8dce5d4bba25fa8"
  },
  {
   "metadata": {},
   "cell_type": "markdown",
   "source": [
    "## Pandas Quick start\n",
    "\n",
    "1. Basic data structure\n",
    "- Series\n",
    "- DataFrame\n",
    "\n",
    "> A DataFrame is a 2-dimensional data structure that can store data of different types (including characters, integers, floating point values, categorical data and more) in columns. It is similar to a spreadsheet, a SQL table or the data.frame in R."
   ],
   "id": "bc39196ce3e8e97"
  },
  {
   "metadata": {},
   "cell_type": "code",
   "source": [
    "import pandas as pd \n",
    "import numpy as np\n",
    "# Series\n",
    "s=pd.Series([1,1,3,5,8,13],index=['a','b','c','d','e','f']) \n",
    "print(s)\n",
    "\n",
    "## Dataframe\n",
    "dates = pd.date_range(\"20130101\", periods=6)\n",
    "print(dates)\n",
    "df = pd.DataFrame(np.random.randn(6, 4), index=dates, columns=list(\"ABCD\"))\n"
   ],
   "id": "c0f1e9fb3ccabf4",
   "outputs": [],
   "execution_count": null
  },
  {
   "metadata": {},
   "cell_type": "markdown",
   "source": [
    "## Go through DataFrame\n",
    "\n",
    "- Data and Dataframe: 二维数据\n",
    "![img](https://pandas.pydata.org/docs/_images/01_table_dataframe.svg)\n",
    "- Tabular data\n",
    "![img](https://pandas.pydata.org/docs/_images/02_io_readwrite.svg)\n",
    "- subset of A table\n",
    "![img](https://pandas.pydata.org/docs/_images/03_subset_columns_rows.svg)\n",
    "- Create plots\n",
    "![img](https://pandas.pydata.org/docs/_images/04_plot_overview.svg)"
   ],
   "id": "5682b2d52395e04f"
  },
  {
   "metadata": {
    "ExecuteTime": {
     "end_time": "2024-07-05T07:53:04.283334Z",
     "start_time": "2024-07-05T07:53:04.256915Z"
    }
   },
   "cell_type": "code",
   "source": [
    "import pandas as pd\n",
    "print(\"go through dataframe\")\n",
    "## DataFrame Col/Row\n",
    "\n",
    "df_cr= pd.DataFrame({\n",
    "  \"Name\":[\"Braund, Mr. Owen Harris\",\n",
    "            \"Allen, Mr. William Henry\",\n",
    "            \"Bonnell, Miss. Elizabeth\",],\n",
    "  \"Age\": [22, 35, 58],\n",
    "        \"Sex\": [\"male\", \"male\", \"female\"],\n",
    "})\n",
    "print(df_cr)\n",
    "print(df_cr['Age'])\n",
    "## Each column in a DataFrame is a Series\n",
    "ages = pd.Series([22, 35, 58], name=\"Age\")\n",
    "print(ages)\n",
    "\n",
    "## series features\n",
    "print(df_cr['Age'].max())\n",
    "print(df_cr['Age'].min())\n",
    "print(df_cr['Age'].mean())\n",
    "print(df_cr.describe())"
   ],
   "id": "2a479730433740f8",
   "outputs": [
    {
     "name": "stdout",
     "output_type": "stream",
     "text": [
      "go through dataframe\n",
      "                       Name  Age     Sex\n",
      "0   Braund, Mr. Owen Harris   22    male\n",
      "1  Allen, Mr. William Henry   35    male\n",
      "2  Bonnell, Miss. Elizabeth   58  female\n",
      "0    22\n",
      "1    35\n",
      "2    58\n",
      "Name: Age, dtype: int64\n",
      "0    22\n",
      "1    35\n",
      "2    58\n",
      "Name: Age, dtype: int64\n",
      "58\n",
      "22\n",
      "38.333333333333336\n",
      "             Age\n",
      "count   3.000000\n",
      "mean   38.333333\n",
      "std    18.230012\n",
      "min    22.000000\n",
      "25%    28.500000\n",
      "50%    35.000000\n",
      "75%    46.500000\n",
      "max    58.000000\n"
     ]
    }
   ],
   "execution_count": 17
  },
  {
   "metadata": {},
   "cell_type": "markdown",
   "source": "## Read And Write Tablular Data",
   "id": "29c528ea662c7d30"
  },
  {
   "metadata": {
    "ExecuteTime": {
     "end_time": "2024-07-19T10:25:58.578596Z",
     "start_time": "2024-07-19T10:25:58.508332Z"
    }
   },
   "cell_type": "code",
   "source": [
    "import pandas as pd \n",
    "\n",
    "drinks = pd.read_csv('./data/drinks.csv')\n",
    "print(drinks)\n",
    "## access dataframe data\n",
    "print(drinks.columns)\n",
    "print(drinks.head(10))\n",
    "print(drinks.tail(10))\n",
    "print(drinks.describe())\n",
    "print(drinks.dtypes)\n",
    "\n",
    "## read with sheet_name \n",
    "users = pd.read_excel('user.xlsx',sheet_name=\"Sheet1\")\n",
    "print(users)\n",
    "print(users.info())\n",
    "\n"
   ],
   "id": "56403160634e06c5",
   "outputs": [
    {
     "name": "stdout",
     "output_type": "stream",
     "text": [
      "         country  beer_servings  spirit_servings  wine_servings  \\\n",
      "0    Afghanistan              0                0              0   \n",
      "1        Albania             89              132             54   \n",
      "2        Algeria             25                0             14   \n",
      "3        Andorra            245              138            312   \n",
      "4         Angola            217               57             45   \n",
      "..           ...            ...              ...            ...   \n",
      "188    Venezuela            333              100              3   \n",
      "189      Vietnam            111                2              1   \n",
      "190        Yemen              6                0              0   \n",
      "191       Zambia             32               19              4   \n",
      "192     Zimbabwe             64               18              4   \n",
      "\n",
      "     total_litres_of_pure_alcohol      continent  \n",
      "0                             0.0           Asia  \n",
      "1                             4.9         Europe  \n",
      "2                             0.7         Africa  \n",
      "3                            12.4         Europe  \n",
      "4                             5.9         Africa  \n",
      "..                            ...            ...  \n",
      "188                           7.7  South America  \n",
      "189                           2.0           Asia  \n",
      "190                           0.1           Asia  \n",
      "191                           2.5         Africa  \n",
      "192                           4.7         Africa  \n",
      "\n",
      "[193 rows x 6 columns]\n",
      "Index(['country', 'beer_servings', 'spirit_servings', 'wine_servings',\n",
      "       'total_litres_of_pure_alcohol', 'continent'],\n",
      "      dtype='object')\n",
      "             country  beer_servings  spirit_servings  wine_servings  \\\n",
      "0        Afghanistan              0                0              0   \n",
      "1            Albania             89              132             54   \n",
      "2            Algeria             25                0             14   \n",
      "3            Andorra            245              138            312   \n",
      "4             Angola            217               57             45   \n",
      "5  Antigua & Barbuda            102              128             45   \n",
      "6          Argentina            193               25            221   \n",
      "7            Armenia             21              179             11   \n",
      "8          Australia            261               72            212   \n",
      "9            Austria            279               75            191   \n",
      "\n",
      "   total_litres_of_pure_alcohol      continent  \n",
      "0                           0.0           Asia  \n",
      "1                           4.9         Europe  \n",
      "2                           0.7         Africa  \n",
      "3                          12.4         Europe  \n",
      "4                           5.9         Africa  \n",
      "5                           4.9  North America  \n",
      "6                           8.3  South America  \n",
      "7                           3.8         Europe  \n",
      "8                          10.4        Oceania  \n",
      "9                           9.7         Europe  \n",
      "        country  beer_servings  spirit_servings  wine_servings  \\\n",
      "183    Tanzania             36                6              1   \n",
      "184         USA            249              158             84   \n",
      "185     Uruguay            115               35            220   \n",
      "186  Uzbekistan             25              101              8   \n",
      "187     Vanuatu             21               18             11   \n",
      "188   Venezuela            333              100              3   \n",
      "189     Vietnam            111                2              1   \n",
      "190       Yemen              6                0              0   \n",
      "191      Zambia             32               19              4   \n",
      "192    Zimbabwe             64               18              4   \n",
      "\n",
      "     total_litres_of_pure_alcohol      continent  \n",
      "183                           5.7         Africa  \n",
      "184                           8.7  North America  \n",
      "185                           6.6  South America  \n",
      "186                           2.4           Asia  \n",
      "187                           0.9        Oceania  \n",
      "188                           7.7  South America  \n",
      "189                           2.0           Asia  \n",
      "190                           0.1           Asia  \n",
      "191                           2.5         Africa  \n",
      "192                           4.7         Africa  \n",
      "       beer_servings  spirit_servings  wine_servings  \\\n",
      "count     193.000000       193.000000     193.000000   \n",
      "mean      106.160622        80.994819      49.450777   \n",
      "std       101.143103        88.284312      79.697598   \n",
      "min         0.000000         0.000000       0.000000   \n",
      "25%        20.000000         4.000000       1.000000   \n",
      "50%        76.000000        56.000000       8.000000   \n",
      "75%       188.000000       128.000000      59.000000   \n",
      "max       376.000000       438.000000     370.000000   \n",
      "\n",
      "       total_litres_of_pure_alcohol  \n",
      "count                    193.000000  \n",
      "mean                       4.717098  \n",
      "std                        3.773298  \n",
      "min                        0.000000  \n",
      "25%                        1.300000  \n",
      "50%                        4.200000  \n",
      "75%                        7.200000  \n",
      "max                       14.400000  \n",
      "country                          object\n",
      "beer_servings                     int64\n",
      "spirit_servings                   int64\n",
      "wine_servings                     int64\n",
      "total_litres_of_pure_alcohol    float64\n",
      "continent                        object\n",
      "dtype: object\n",
      "   Unnamed: 0                      Name  Age     Sex\n",
      "0           0   Braund, Mr. Owen Harris   22    male\n",
      "1           1  Allen, Mr. William Henry   35    male\n",
      "2           2  Bonnell, Miss. Elizabeth   58  female\n",
      "<class 'pandas.core.frame.DataFrame'>\n",
      "RangeIndex: 3 entries, 0 to 2\n",
      "Data columns (total 4 columns):\n",
      " #   Column      Non-Null Count  Dtype \n",
      "---  ------      --------------  ----- \n",
      " 0   Unnamed: 0  3 non-null      int64 \n",
      " 1   Name        3 non-null      object\n",
      " 2   Age         3 non-null      int64 \n",
      " 3   Sex         3 non-null      object\n",
      "dtypes: int64(2), object(2)\n",
      "memory usage: 228.0+ bytes\n",
      "None\n"
     ]
    }
   ],
   "execution_count": 10
  },
  {
   "metadata": {},
   "cell_type": "markdown",
   "source": "## Select subset of DataFrame\n",
   "id": "8dec6d88de1258b0"
  },
  {
   "metadata": {
    "ExecuteTime": {
     "end_time": "2024-07-19T10:33:15.437538Z",
     "start_time": "2024-07-19T10:33:15.405943Z"
    }
   },
   "cell_type": "code",
   "source": [
    "import pandas as pd\n",
    "\n",
    "users = pd.read_excel('user.xlsx',sheet_name=\"Sheet1\")\n",
    "print(users['Age'])\n",
    "print(users['Age'].shape)\n",
    "print(type(users['Age']))\n",
    "users[[\"Age\", \"Sex\"]]\n",
    "users[users['Age']>35]\n",
    "users.loc[users['Age']>35,\"Name\"]\n",
    "## I’m interested in rows 10 till 25 and columns 3 to 5.\n",
    "users.iloc[0:1,1:2]"
   ],
   "id": "3fd5ca46ffc88aae",
   "outputs": [
    {
     "name": "stdout",
     "output_type": "stream",
     "text": [
      "0    22\n",
      "1    35\n",
      "2    58\n",
      "Name: Age, dtype: int64\n",
      "(3,)\n",
      "<class 'pandas.core.series.Series'>\n"
     ]
    },
    {
     "data": {
      "text/plain": [
       "                      Name\n",
       "0  Braund, Mr. Owen Harris"
      ],
      "text/html": [
       "<div>\n",
       "<style scoped>\n",
       "    .dataframe tbody tr th:only-of-type {\n",
       "        vertical-align: middle;\n",
       "    }\n",
       "\n",
       "    .dataframe tbody tr th {\n",
       "        vertical-align: top;\n",
       "    }\n",
       "\n",
       "    .dataframe thead th {\n",
       "        text-align: right;\n",
       "    }\n",
       "</style>\n",
       "<table border=\"1\" class=\"dataframe\">\n",
       "  <thead>\n",
       "    <tr style=\"text-align: right;\">\n",
       "      <th></th>\n",
       "      <th>Name</th>\n",
       "    </tr>\n",
       "  </thead>\n",
       "  <tbody>\n",
       "    <tr>\n",
       "      <th>0</th>\n",
       "      <td>Braund, Mr. Owen Harris</td>\n",
       "    </tr>\n",
       "  </tbody>\n",
       "</table>\n",
       "</div>"
      ]
     },
     "execution_count": 27,
     "metadata": {},
     "output_type": "execute_result"
    }
   ],
   "execution_count": 27
  },
  {
   "metadata": {},
   "cell_type": "markdown",
   "source": "## create plot",
   "id": "1d43a688435b650a"
  },
  {
   "metadata": {
    "ExecuteTime": {
     "end_time": "2024-07-19T10:34:17.253111Z",
     "start_time": "2024-07-19T10:34:15.924619Z"
    }
   },
   "cell_type": "code",
   "source": [
    "import pandas as pd\n",
    "import matplotlib.pyplot as plt\n",
    "users = pd.read_excel('user.xlsx',sheet_name=\"Sheet1\")\n",
    "users.plot()"
   ],
   "id": "1a4b05ca5da10bad",
   "outputs": [
    {
     "data": {
      "text/plain": [
       "<Axes: >"
      ]
     },
     "execution_count": 28,
     "metadata": {},
     "output_type": "execute_result"
    },
    {
     "data": {
      "text/plain": [
       "<Figure size 640x480 with 1 Axes>"
      ],
      "image/png": "[encoded data removed]"
     },
     "metadata": {},
     "output_type": "display_data"
    }
   ],
   "execution_count": 28
  },
  {
   "metadata": {},
   "cell_type": "markdown",
   "source": [
    "## Read Case for drinks\n",
    "\n",
    "\n",
    "- Simple Chart to list all the country bar\n",
    "- Chart for continent"
   ],
   "id": "5676e3d8680c2a60"
  },
  {
   "metadata": {},
   "cell_type": "code",
   "source": [
    "import pandas as pd\n",
    "import matplotlib.pyplot as plt\n",
    "drinks = pd.read_csv('./data/drinks.csv')\n",
    "drinks.plot.bar(x='country',y = 'beer_servings', rot=90)\n",
    "plt.xlabel('国家')\n",
    "plt.ylabel('啤酒消费量')\n",
    "plt.title('beer servings by country ')\n",
    "plt.plot()\n",
    "plt.show()"
   ],
   "id": "2db2b8eff5d6ede8",
   "outputs": [],
   "execution_count": null
  },
  {
   "metadata": {},
   "cell_type": "code",
   "source": [
    "\n",
    "import pandas as pd\n",
    "import matplotlib.pyplot as plt\n",
    "drinks = pd.read_csv('./data/drinks.csv')\n",
    "\n",
    "drinks_by_continent = drinks.groupby('continent')\n",
    "for continent, group in drinks_by_continent: ## continent as topic for country\n",
    "    # 创建图形\n",
    "    plt.figure(figsize=(10, 6))  # 设置图形大小\n",
    "    group.plot(x=\"country\", y=\"total_litres_of_pure_alcohol\", kind=\"bar\", rot=90)  # 创建条形图\n",
    "\n",
    "    # 设置图形标题和轴标签\n",
    "    plt.title(f\"{continent} 的纯酒精总量\")\n",
    "    plt.xlabel(\"国家\")\n",
    "    plt.ylabel(\"纯酒精总量 (升)\")\n",
    "\n",
    "    # 显示图形\n",
    "    plt.tight_layout()  # 调整图形布局\n",
    "    plt.show()"
   ],
   "id": "cc6e2633ec9446f0",
   "outputs": [],
   "execution_count": null
  },
  {
   "metadata": {},
   "cell_type": "code",
   "source": [
    "\n",
    "import pandas as pd\n",
    "import matplotlib.pyplot as plt\n",
    "drinks = pd.read_csv('./data/drinks.csv')\n",
    "\n",
    "drinks_by_continent = drinks.groupby('continent')\n",
    "\n",
    "# 假设你的 DataFrame 叫做 df\n",
    "grouped_data = drinks_by_continent[\"beer_servings\"].mean()\n",
    "\n",
    "plt.figure(figsize=(10, 6))\n",
    "grouped_data.plot(kind=\"bar\", rot=0)\n",
    "plt.title(\"bear servings\")\n",
    "plt.xlabel(\"大陆\")\n",
    "plt.ylabel(\"啤酒消费量 (升)\")\n",
    "plt.tight_layout()\n",
    "plt.show()\n",
    "\n"
   ],
   "id": "465404f24c31d396",
   "outputs": [],
   "execution_count": null
  },
  {
   "metadata": {},
   "cell_type": "code",
   "source": [
    "import pandas as pd\n",
    "import matplotlib.pyplot as plt\n",
    "drinks = pd.read_csv('./data/drinks.csv')\n",
    "drinks_by_continent = drinks.groupby('continent')\n",
    "print(drinks_by_continent.describe())\n",
    "# 假设你的 DataFrame 叫做 df\n",
    "# grouped_data= drinks_by_continent[['beer_servings','spirit_servings']].sum()\n",
    "group_data= drinks_by_continent.sum()\n",
    "plt.title(\"all servings\")\n",
    "plt.xlabel(\"大陆\")\n",
    "plt.ylabel(\"消费量 (升)\") \n",
    "group_data.plot(kind=\"bar\", stacked=True,rot=0)\n",
    "group_data.plot(kind=\"bar\",rot=0)\n",
    "plt.show()"
   ],
   "id": "845c769be7e36379",
   "outputs": [],
   "execution_count": null
  }
 ],
 "metadata": {
  "kernelspec": {
   "display_name": "Python 3",
   "language": "python",
   "name": "python3"
  },
  "language_info": {
   "codemirror_mode": {
    "name": "ipython",
    "version": 2
   },
   "file_extension": ".py",
   "mimetype": "text/x-python",
   "name": "python",
   "nbconvert_exporter": "python",
   "pygments_lexer": "ipython2",
   "version": "2.7.6"
  }
 },
 "nbformat": 4,
 "nbformat_minor": 5
}
