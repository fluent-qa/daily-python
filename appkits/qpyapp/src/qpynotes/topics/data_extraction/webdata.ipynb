{
 "cells": [
  {
   "cell_type": "code",
   "execution_count": null,
   "id": "initial_id",
   "metadata": {
    "collapsed": true
   },
   "outputs": [],
   "source": [
    ""
   ]
  },
  {
   "metadata": {},
   "cell_type": "code",
   "outputs": [],
   "execution_count": null,
   "source": [
    "import pandas as pd \n",
    "\n",
    "##1.extract data from website\n",
    "df_premier21 = pd.read_csv('https://www.football-data.co.uk/mmz4281/2122/E0.csv')\n",
    "print(df_premier21)\n",
    "# rename columns\n",
    "df_premier21 = df_premier21.rename(columns={'Date':'date',\n",
    "                                            'HomeTeam':'home_team',\n",
    "                                            'AwayTeam':'away_team',\n",
    "                                            'FTHG': 'home_goals',\n",
    "                                            'FTAG': 'away_goals'})\n",
    "df_premier21\n",
    "## 2. extract data from website html\n",
    "simpsons = pd.read_html('https://en.wikipedia.org/wiki/List_of_The_Simpsons_episodes_(seasons_1%E2%80%9320)')\n",
    "simpsons[1].head()"
   ],
   "id": "55a100255821ddcb"
  },
  {
   "metadata": {},
   "cell_type": "code",
   "outputs": [],
   "execution_count": null,
   "source": "",
   "id": "4ad7c3a962f9fb4"
  }
 ],
 "metadata": {
  "kernelspec": {
   "display_name": "Python 3",
   "language": "python",
   "name": "python3"
  },
  "language_info": {
   "codemirror_mode": {
    "name": "ipython",
    "version": 2
   },
   "file_extension": ".py",
   "mimetype": "text/x-python",
   "name": "python",
   "nbconvert_exporter": "python",
   "pygments_lexer": "ipython2",
   "version": "2.7.6"
  }
 },
 "nbformat": 4,
 "nbformat_minor": 5
}
